{
 "cells": [
  {
   "cell_type": "code",
   "execution_count": 3,
   "metadata": {},
   "outputs": [],
   "source": [
    "import pandas as pd\n",
    "import numpy as np\n",
    "import matplotlib.pyplot as plt\n",
    "from sklearn.model_selection import cross_val_score\n",
    "from sklearn.model_selection import KFold\n",
    "from sklearn.tree import DecisionTreeClassifier\n",
    "from sklearn.model_selection import train_test_split\n",
    "from sklearn.metrics import accuracy_score, precision_score, confusion_matrix\n",
    "from sklearn import tree\n",
    "from sklearn import preprocessing\n",
    "import seaborn as sns "
   ]
  },
  {
   "cell_type": "code",
   "execution_count": 4,
   "metadata": {},
   "outputs": [
    {
     "name": "stdout",
     "output_type": "stream",
     "text": [
      "      age  sex  cp  trestbps  chol  fbs  restecg  thalach  exang  oldpeak  \\\n",
      "0      52    1   0       125   212    0        1      168      0      1.0   \n",
      "1      53    1   0       140   203    1        0      155      1      3.1   \n",
      "2      70    1   0       145   174    0        1      125      1      2.6   \n",
      "3      61    1   0       148   203    0        1      161      0      0.0   \n",
      "4      62    0   0       138   294    1        1      106      0      1.9   \n",
      "...   ...  ...  ..       ...   ...  ...      ...      ...    ...      ...   \n",
      "1020   59    1   1       140   221    0        1      164      1      0.0   \n",
      "1021   60    1   0       125   258    0        0      141      1      2.8   \n",
      "1022   47    1   0       110   275    0        0      118      1      1.0   \n",
      "1023   50    0   0       110   254    0        0      159      0      0.0   \n",
      "1024   54    1   0       120   188    0        1      113      0      1.4   \n",
      "\n",
      "      slope  ca  thal  target  \n",
      "0         2   2     3       0  \n",
      "1         0   0     3       0  \n",
      "2         0   0     3       0  \n",
      "3         2   1     3       0  \n",
      "4         1   3     2       0  \n",
      "...     ...  ..   ...     ...  \n",
      "1020      2   0     2       1  \n",
      "1021      1   1     3       0  \n",
      "1022      1   1     2       0  \n",
      "1023      2   0     2       1  \n",
      "1024      1   1     3       0  \n",
      "\n",
      "[1025 rows x 14 columns]\n"
     ]
    }
   ],
   "source": [
    "# Show the dataframe\n",
    "df_heart = pd.read_csv('Data/2_heart.csv')\n",
    "print(df_heart)"
   ]
  },
  {
   "cell_type": "code",
   "execution_count": 5,
   "metadata": {},
   "outputs": [
    {
     "data": {
      "text/html": [
       "<div>\n",
       "<style scoped>\n",
       "    .dataframe tbody tr th:only-of-type {\n",
       "        vertical-align: middle;\n",
       "    }\n",
       "\n",
       "    .dataframe tbody tr th {\n",
       "        vertical-align: top;\n",
       "    }\n",
       "\n",
       "    .dataframe thead th {\n",
       "        text-align: right;\n",
       "    }\n",
       "</style>\n",
       "<table border=\"1\" class=\"dataframe\">\n",
       "  <thead>\n",
       "    <tr style=\"text-align: right;\">\n",
       "      <th></th>\n",
       "      <th>age</th>\n",
       "      <th>sex</th>\n",
       "      <th>cp</th>\n",
       "      <th>trestbps</th>\n",
       "      <th>chol</th>\n",
       "      <th>fbs</th>\n",
       "      <th>restecg</th>\n",
       "      <th>thalach</th>\n",
       "      <th>exang</th>\n",
       "      <th>oldpeak</th>\n",
       "      <th>slope</th>\n",
       "      <th>ca</th>\n",
       "      <th>thal</th>\n",
       "      <th>target</th>\n",
       "    </tr>\n",
       "  </thead>\n",
       "  <tbody>\n",
       "    <tr>\n",
       "      <th>0</th>\n",
       "      <td>52</td>\n",
       "      <td>1</td>\n",
       "      <td>0</td>\n",
       "      <td>125</td>\n",
       "      <td>212</td>\n",
       "      <td>0</td>\n",
       "      <td>1</td>\n",
       "      <td>168</td>\n",
       "      <td>0</td>\n",
       "      <td>1.0</td>\n",
       "      <td>2</td>\n",
       "      <td>2</td>\n",
       "      <td>3</td>\n",
       "      <td>0</td>\n",
       "    </tr>\n",
       "    <tr>\n",
       "      <th>1</th>\n",
       "      <td>53</td>\n",
       "      <td>1</td>\n",
       "      <td>0</td>\n",
       "      <td>140</td>\n",
       "      <td>203</td>\n",
       "      <td>1</td>\n",
       "      <td>0</td>\n",
       "      <td>155</td>\n",
       "      <td>1</td>\n",
       "      <td>3.1</td>\n",
       "      <td>0</td>\n",
       "      <td>0</td>\n",
       "      <td>3</td>\n",
       "      <td>0</td>\n",
       "    </tr>\n",
       "    <tr>\n",
       "      <th>2</th>\n",
       "      <td>70</td>\n",
       "      <td>1</td>\n",
       "      <td>0</td>\n",
       "      <td>145</td>\n",
       "      <td>174</td>\n",
       "      <td>0</td>\n",
       "      <td>1</td>\n",
       "      <td>125</td>\n",
       "      <td>1</td>\n",
       "      <td>2.6</td>\n",
       "      <td>0</td>\n",
       "      <td>0</td>\n",
       "      <td>3</td>\n",
       "      <td>0</td>\n",
       "    </tr>\n",
       "    <tr>\n",
       "      <th>3</th>\n",
       "      <td>61</td>\n",
       "      <td>1</td>\n",
       "      <td>0</td>\n",
       "      <td>148</td>\n",
       "      <td>203</td>\n",
       "      <td>0</td>\n",
       "      <td>1</td>\n",
       "      <td>161</td>\n",
       "      <td>0</td>\n",
       "      <td>0.0</td>\n",
       "      <td>2</td>\n",
       "      <td>1</td>\n",
       "      <td>3</td>\n",
       "      <td>0</td>\n",
       "    </tr>\n",
       "    <tr>\n",
       "      <th>4</th>\n",
       "      <td>62</td>\n",
       "      <td>0</td>\n",
       "      <td>0</td>\n",
       "      <td>138</td>\n",
       "      <td>294</td>\n",
       "      <td>1</td>\n",
       "      <td>1</td>\n",
       "      <td>106</td>\n",
       "      <td>0</td>\n",
       "      <td>1.9</td>\n",
       "      <td>1</td>\n",
       "      <td>3</td>\n",
       "      <td>2</td>\n",
       "      <td>0</td>\n",
       "    </tr>\n",
       "  </tbody>\n",
       "</table>\n",
       "</div>"
      ],
      "text/plain": [
       "   age  sex  cp  trestbps  chol  fbs  restecg  thalach  exang  oldpeak  slope  \\\n",
       "0   52    1   0       125   212    0        1      168      0      1.0      2   \n",
       "1   53    1   0       140   203    1        0      155      1      3.1      0   \n",
       "2   70    1   0       145   174    0        1      125      1      2.6      0   \n",
       "3   61    1   0       148   203    0        1      161      0      0.0      2   \n",
       "4   62    0   0       138   294    1        1      106      0      1.9      1   \n",
       "\n",
       "   ca  thal  target  \n",
       "0   2     3       0  \n",
       "1   0     3       0  \n",
       "2   0     3       0  \n",
       "3   1     3       0  \n",
       "4   3     2       0  "
      ]
     },
     "execution_count": 5,
     "metadata": {},
     "output_type": "execute_result"
    }
   ],
   "source": [
    "df_heart.head()"
   ]
  },
  {
   "cell_type": "code",
   "execution_count": 6,
   "metadata": {},
   "outputs": [
    {
     "name": "stdout",
     "output_type": "stream",
     "text": [
      "age         0\n",
      "sex         0\n",
      "cp          0\n",
      "trestbps    0\n",
      "chol        0\n",
      "fbs         0\n",
      "restecg     0\n",
      "thalach     0\n",
      "exang       0\n",
      "oldpeak     0\n",
      "slope       0\n",
      "ca          0\n",
      "thal        0\n",
      "target      0\n",
      "dtype: int64\n"
     ]
    }
   ],
   "source": [
    "# Preprocessing\n",
    "# Missing Value\n",
    "# --Check is there any a missing value in dataframe\n",
    "print(df_heart.isnull().sum())"
   ]
  },
  {
   "cell_type": "code",
   "execution_count": 7,
   "metadata": {},
   "outputs": [
    {
     "data": {
      "text/plain": [
       "(1025, 14)"
      ]
     },
     "execution_count": 7,
     "metadata": {},
     "output_type": "execute_result"
    }
   ],
   "source": [
    "# Outlier\n",
    "# --Check shape of data\n",
    "df_heart.shape\n"
   ]
  },
  {
   "cell_type": "code",
   "execution_count": 8,
   "metadata": {},
   "outputs": [],
   "source": [
    "# --function to detect outliers using z_score\n",
    "outliers = []\n",
    "def detect_outlier(data_1):\n",
    "    threshold = 3\n",
    "    mean_1 = np.mean(data_1)\n",
    "    std_1 = np.std(data_1)\n",
    "\n",
    "    for y in data_1:\n",
    "        z_score = (y - mean_1)/std_1\n",
    "        if np.abs(z_score) > threshold:\n",
    "            outliers.append(y)\n",
    "    return outliers"
   ]
  },
  {
   "cell_type": "code",
   "execution_count": 9,
   "metadata": {},
   "outputs": [
    {
     "name": "stdout",
     "output_type": "stream",
     "text": [
      "[]\n"
     ]
    }
   ],
   "source": [
    "# -- Check Outliers--'age'\n",
    "outliers_age = df_heart['age']\n",
    "outlier_datapoints = detect_outlier(outliers_age)\n",
    "print(outlier_datapoints)"
   ]
  },
  {
   "cell_type": "code",
   "execution_count": 10,
   "metadata": {},
   "outputs": [],
   "source": [
    "outliers.clear()"
   ]
  },
  {
   "cell_type": "code",
   "execution_count": 11,
   "metadata": {},
   "outputs": [
    {
     "name": "stdout",
     "output_type": "stream",
     "text": [
      "[]\n"
     ]
    }
   ],
   "source": [
    "# -- Check Outliers--'sex'\n",
    "outliers_sex = df_heart['sex']\n",
    "outlier_datapoints = detect_outlier(outliers_sex)\n",
    "print(outlier_datapoints)"
   ]
  },
  {
   "cell_type": "code",
   "execution_count": 12,
   "metadata": {},
   "outputs": [],
   "source": [
    "outliers.clear()"
   ]
  },
  {
   "cell_type": "code",
   "execution_count": 13,
   "metadata": {},
   "outputs": [
    {
     "name": "stdout",
     "output_type": "stream",
     "text": [
      "[]\n"
     ]
    }
   ],
   "source": [
    "# -- Check Outliers--'cp'\n",
    "outliers_cp = df_heart['cp']\n",
    "outlier_datapoints = detect_outlier(outliers_cp)\n",
    "print(outlier_datapoints)"
   ]
  },
  {
   "cell_type": "code",
   "execution_count": 14,
   "metadata": {},
   "outputs": [],
   "source": [
    "outliers.clear()"
   ]
  },
  {
   "cell_type": "code",
   "execution_count": 15,
   "metadata": {},
   "outputs": [
    {
     "name": "stdout",
     "output_type": "stream",
     "text": [
      "[192, 200, 192, 200, 192, 200, 200]\n"
     ]
    }
   ],
   "source": [
    "# -- Check Outliers--'trestbps'\n",
    "outliers_trestbps = df_heart['trestbps']\n",
    "outlier_datapoints = detect_outlier(outliers_trestbps)\n",
    "print(outlier_datapoints)"
   ]
  },
  {
   "cell_type": "code",
   "execution_count": 16,
   "metadata": {},
   "outputs": [],
   "source": [
    "outliers.clear()"
   ]
  },
  {
   "cell_type": "code",
   "execution_count": 17,
   "metadata": {},
   "outputs": [
    {
     "name": "stdout",
     "output_type": "stream",
     "text": [
      "[417, 564, 409, 564, 407, 564, 407, 409, 417, 407, 407, 417, 409]\n"
     ]
    }
   ],
   "source": [
    "# -- Check Outliers--'chol'\n",
    "outliers_chol = df_heart['chol']\n",
    "outlier_datapoints = detect_outlier(outliers_chol)\n",
    "print(outlier_datapoints)"
   ]
  },
  {
   "cell_type": "code",
   "execution_count": 18,
   "metadata": {},
   "outputs": [],
   "source": [
    "outliers.clear()"
   ]
  },
  {
   "cell_type": "code",
   "execution_count": 19,
   "metadata": {},
   "outputs": [
    {
     "name": "stdout",
     "output_type": "stream",
     "text": [
      "[]\n"
     ]
    }
   ],
   "source": [
    "# -- Check Outliers--'fbs'\n",
    "outliers_fbs = df_heart['fbs']\n",
    "outlier_datapoints = detect_outlier(outliers_fbs)\n",
    "print(outlier_datapoints)"
   ]
  },
  {
   "cell_type": "code",
   "execution_count": 20,
   "metadata": {},
   "outputs": [],
   "source": [
    "# outliers.clear()"
   ]
  },
  {
   "cell_type": "code",
   "execution_count": 21,
   "metadata": {},
   "outputs": [
    {
     "name": "stdout",
     "output_type": "stream",
     "text": [
      "[]\n"
     ]
    }
   ],
   "source": [
    "# -- Check Outliers--'restecg'\n",
    "outliers_restecg = df_heart['restecg']\n",
    "outlier_datapoints = detect_outlier(outliers_restecg)\n",
    "print(outlier_datapoints)"
   ]
  },
  {
   "cell_type": "code",
   "execution_count": 22,
   "metadata": {},
   "outputs": [],
   "source": [
    "# outliers.clear()"
   ]
  },
  {
   "cell_type": "code",
   "execution_count": 23,
   "metadata": {},
   "outputs": [
    {
     "name": "stdout",
     "output_type": "stream",
     "text": [
      "[71, 71, 71, 71]\n"
     ]
    }
   ],
   "source": [
    "# -- Check Outliers--'thalach'\n",
    "outliers_thalach = df_heart['thalach']\n",
    "outlier_datapoints = detect_outlier(outliers_thalach)\n",
    "print(outlier_datapoints)"
   ]
  },
  {
   "cell_type": "code",
   "execution_count": 24,
   "metadata": {},
   "outputs": [],
   "source": [
    "outliers.clear()"
   ]
  },
  {
   "cell_type": "code",
   "execution_count": 25,
   "metadata": {},
   "outputs": [
    {
     "name": "stdout",
     "output_type": "stream",
     "text": [
      "[]\n"
     ]
    }
   ],
   "source": [
    "# -- Check Outliers--'exang'\n",
    "outliers_exang = df_heart['exang']\n",
    "outlier_datapoints = detect_outlier(outliers_exang)\n",
    "print(outlier_datapoints)"
   ]
  },
  {
   "cell_type": "code",
   "execution_count": 26,
   "metadata": {},
   "outputs": [],
   "source": [
    "outliers.clear()"
   ]
  },
  {
   "cell_type": "code",
   "execution_count": 27,
   "metadata": {},
   "outputs": [
    {
     "name": "stdout",
     "output_type": "stream",
     "text": [
      "[5.6, 5.6, 6.2, 6.2, 6.2, 5.6, 5.6]\n"
     ]
    }
   ],
   "source": [
    "# -- Check Outliers--'oldpeak'\n",
    "outliers_oldpeak = df_heart['oldpeak']\n",
    "outlier_datapoints = detect_outlier(outliers_oldpeak)\n",
    "print(outlier_datapoints)"
   ]
  },
  {
   "cell_type": "code",
   "execution_count": 28,
   "metadata": {},
   "outputs": [],
   "source": [
    "outliers.clear()"
   ]
  },
  {
   "cell_type": "code",
   "execution_count": 29,
   "metadata": {},
   "outputs": [
    {
     "name": "stdout",
     "output_type": "stream",
     "text": [
      "[]\n"
     ]
    }
   ],
   "source": [
    "# -- Check Outliers--'slope'\n",
    "outliers_slope = df_heart['slope']\n",
    "outlier_datapoints = detect_outlier(outliers_slope)\n",
    "print(outlier_datapoints)"
   ]
  },
  {
   "cell_type": "code",
   "execution_count": 30,
   "metadata": {},
   "outputs": [],
   "source": [
    "outliers.clear()"
   ]
  },
  {
   "cell_type": "code",
   "execution_count": 31,
   "metadata": {},
   "outputs": [
    {
     "name": "stdout",
     "output_type": "stream",
     "text": [
      "[4, 4, 4, 4, 4, 4, 4, 4, 4, 4, 4, 4, 4, 4, 4, 4, 4, 4]\n"
     ]
    }
   ],
   "source": [
    "# -- Check Outliers--'ca'\n",
    "outliers_ca = df_heart['ca']\n",
    "outlier_datapoints = detect_outlier(outliers_ca)\n",
    "print(outlier_datapoints)"
   ]
  },
  {
   "cell_type": "code",
   "execution_count": 32,
   "metadata": {},
   "outputs": [],
   "source": [
    "outliers.clear()"
   ]
  },
  {
   "cell_type": "code",
   "execution_count": 33,
   "metadata": {},
   "outputs": [
    {
     "name": "stdout",
     "output_type": "stream",
     "text": [
      "[0, 0, 0, 0, 0, 0, 0]\n"
     ]
    }
   ],
   "source": [
    "# -- Check Outliers--'thal'\n",
    "outliers_thal = df_heart['thal']\n",
    "outlier_datapoints = detect_outlier(outliers_thal)\n",
    "print(outlier_datapoints)"
   ]
  },
  {
   "cell_type": "code",
   "execution_count": 34,
   "metadata": {},
   "outputs": [],
   "source": [
    "outliers.clear()"
   ]
  },
  {
   "cell_type": "code",
   "execution_count": 35,
   "metadata": {},
   "outputs": [
    {
     "name": "stdout",
     "output_type": "stream",
     "text": [
      "[]\n"
     ]
    }
   ],
   "source": [
    "# -- Check Outliers--'target'\n",
    "outliers_target = df_heart['target']\n",
    "outlier_datapoints = detect_outlier(outliers_target)\n",
    "print(outlier_datapoints)"
   ]
  },
  {
   "cell_type": "code",
   "execution_count": 36,
   "metadata": {},
   "outputs": [],
   "source": [
    "outliers.clear()"
   ]
  },
  {
   "cell_type": "code",
   "execution_count": 37,
   "metadata": {},
   "outputs": [],
   "source": [
    "# Now we know the data with have an outliers are\n",
    "# 1.'trestbps'\n",
    "# 2. 'chol'\n",
    "# 3. 'thalach'\n",
    "# 4. 'oldpeak'\n",
    "# 5. 'ca'\n",
    "# 6. 'thal'"
   ]
  },
  {
   "cell_type": "code",
   "execution_count": 38,
   "metadata": {},
   "outputs": [],
   "source": [
    "from scipy import stats\n",
    "z_scores = stats.zscore(df_heart)\n",
    "abs_z_scores = np.abs(z_scores)\n",
    "filtered_entries = (abs_z_scores < 3).all(axis=1)\n",
    "df_heart = df_heart[filtered_entries]"
   ]
  },
  {
   "cell_type": "code",
   "execution_count": 39,
   "metadata": {},
   "outputs": [
    {
     "data": {
      "text/plain": [
       "(969, 14)"
      ]
     },
     "execution_count": 39,
     "metadata": {},
     "output_type": "execute_result"
    }
   ],
   "source": [
    "df_heart.shape"
   ]
  },
  {
   "cell_type": "code",
   "execution_count": 40,
   "metadata": {},
   "outputs": [],
   "source": [
    "# Konversi data jenis kelamin ke bentuk nominal\n",
    "label_encoder = preprocessing.LabelEncoder()\n",
    "encoded_sex = label_encoder.fit_transform(df_heart[\"sex\"])"
   ]
  },
  {
   "cell_type": "markdown",
   "metadata": {},
   "source": [
    "### Tidak Perlu Di Normalisasi Karena Tidak Ada Missing Value"
   ]
  },
  {
   "cell_type": "code",
   "execution_count": 41,
   "metadata": {},
   "outputs": [],
   "source": [
    "# # Normalization range 0 to 1\n",
    "# def NormalizeData(data):\n",
    "#     return (data - np.min(data)) / (np.max(data) - np.min(data))\n",
    "\n",
    "# scaled_df_heart = df_heart\n",
    "# scaled_df_heart['age'] = NormalizeData(df_heart['age'])\n",
    "# scaled_df_heart['sex'] = NormalizeData(df_heart['sex'])\n",
    "# scaled_df_heart['cp'] = NormalizeData(df_heart['cp'])\n",
    "# scaled_df_heart['trestbps'] = NormalizeData(df_heart['target'])\n",
    "# scaled_df_heart['chol'] = NormalizeData(df_heart['chol'])\n",
    "# scaled_df_heart['fbs']= NormalizeData(df_heart['fbs'])\n",
    "# scaled_df_heart['restecg'] = NormalizeData(df_heart['restecg'])\n",
    "# scaled_df_heart['thalach'] = NormalizeData(df_heart['thalach'])\n",
    "# scaled_df_heart['exang'] = NormalizeData(df_heart['exang'])\n",
    "# scaled_df_heart['oldpeak'] = NormalizeData(df_heart['oldpeak'])\n",
    "# scaled_df_heart['slope'] = NormalizeData(df_heart['slope'])\n",
    "# scaled_df_heart['ca'] = NormalizeData(df_heart['ca'])\n",
    "# scaled_df_heart['thal'] = NormalizeData(df_heart['thal'])\n",
    "# scaled_df_heart['target'] = NormalizeData(df_heart['target'])\n",
    "# scaled_df_heart.head()"
   ]
  },
  {
   "cell_type": "code",
   "execution_count": 42,
   "metadata": {},
   "outputs": [
    {
     "data": {
      "text/html": [
       "<div>\n",
       "<style scoped>\n",
       "    .dataframe tbody tr th:only-of-type {\n",
       "        vertical-align: middle;\n",
       "    }\n",
       "\n",
       "    .dataframe tbody tr th {\n",
       "        vertical-align: top;\n",
       "    }\n",
       "\n",
       "    .dataframe thead th {\n",
       "        text-align: right;\n",
       "    }\n",
       "</style>\n",
       "<table border=\"1\" class=\"dataframe\">\n",
       "  <thead>\n",
       "    <tr style=\"text-align: right;\">\n",
       "      <th></th>\n",
       "      <th>age</th>\n",
       "      <th>sex</th>\n",
       "      <th>cp</th>\n",
       "      <th>trestbps</th>\n",
       "      <th>chol</th>\n",
       "      <th>fbs</th>\n",
       "      <th>restecg</th>\n",
       "      <th>thalach</th>\n",
       "      <th>exang</th>\n",
       "      <th>oldpeak</th>\n",
       "      <th>slope</th>\n",
       "      <th>ca</th>\n",
       "      <th>thal</th>\n",
       "    </tr>\n",
       "  </thead>\n",
       "  <tbody>\n",
       "    <tr>\n",
       "      <th>0</th>\n",
       "      <td>52</td>\n",
       "      <td>1</td>\n",
       "      <td>0</td>\n",
       "      <td>125</td>\n",
       "      <td>212</td>\n",
       "      <td>0</td>\n",
       "      <td>1</td>\n",
       "      <td>168</td>\n",
       "      <td>0</td>\n",
       "      <td>1.0</td>\n",
       "      <td>2</td>\n",
       "      <td>2</td>\n",
       "      <td>3</td>\n",
       "    </tr>\n",
       "    <tr>\n",
       "      <th>1</th>\n",
       "      <td>53</td>\n",
       "      <td>1</td>\n",
       "      <td>0</td>\n",
       "      <td>140</td>\n",
       "      <td>203</td>\n",
       "      <td>1</td>\n",
       "      <td>0</td>\n",
       "      <td>155</td>\n",
       "      <td>1</td>\n",
       "      <td>3.1</td>\n",
       "      <td>0</td>\n",
       "      <td>0</td>\n",
       "      <td>3</td>\n",
       "    </tr>\n",
       "    <tr>\n",
       "      <th>2</th>\n",
       "      <td>70</td>\n",
       "      <td>1</td>\n",
       "      <td>0</td>\n",
       "      <td>145</td>\n",
       "      <td>174</td>\n",
       "      <td>0</td>\n",
       "      <td>1</td>\n",
       "      <td>125</td>\n",
       "      <td>1</td>\n",
       "      <td>2.6</td>\n",
       "      <td>0</td>\n",
       "      <td>0</td>\n",
       "      <td>3</td>\n",
       "    </tr>\n",
       "    <tr>\n",
       "      <th>3</th>\n",
       "      <td>61</td>\n",
       "      <td>1</td>\n",
       "      <td>0</td>\n",
       "      <td>148</td>\n",
       "      <td>203</td>\n",
       "      <td>0</td>\n",
       "      <td>1</td>\n",
       "      <td>161</td>\n",
       "      <td>0</td>\n",
       "      <td>0.0</td>\n",
       "      <td>2</td>\n",
       "      <td>1</td>\n",
       "      <td>3</td>\n",
       "    </tr>\n",
       "    <tr>\n",
       "      <th>4</th>\n",
       "      <td>62</td>\n",
       "      <td>0</td>\n",
       "      <td>0</td>\n",
       "      <td>138</td>\n",
       "      <td>294</td>\n",
       "      <td>1</td>\n",
       "      <td>1</td>\n",
       "      <td>106</td>\n",
       "      <td>0</td>\n",
       "      <td>1.9</td>\n",
       "      <td>1</td>\n",
       "      <td>3</td>\n",
       "      <td>2</td>\n",
       "    </tr>\n",
       "  </tbody>\n",
       "</table>\n",
       "</div>"
      ],
      "text/plain": [
       "   age  sex  cp  trestbps  chol  fbs  restecg  thalach  exang  oldpeak  slope  \\\n",
       "0   52    1   0       125   212    0        1      168      0      1.0      2   \n",
       "1   53    1   0       140   203    1        0      155      1      3.1      0   \n",
       "2   70    1   0       145   174    0        1      125      1      2.6      0   \n",
       "3   61    1   0       148   203    0        1      161      0      0.0      2   \n",
       "4   62    0   0       138   294    1        1      106      0      1.9      1   \n",
       "\n",
       "   ca  thal  \n",
       "0   2     3  \n",
       "1   0     3  \n",
       "2   0     3  \n",
       "3   1     3  \n",
       "4   3     2  "
      ]
     },
     "execution_count": 42,
     "metadata": {},
     "output_type": "execute_result"
    }
   ],
   "source": [
    "# Feature selection\n",
    "# Independent Variabel\n",
    "xdf = df_heart.drop(['target'], axis=1)\n",
    "xdf.head()\n",
    "# print(xdf.columns.values.tolist())"
   ]
  },
  {
   "cell_type": "code",
   "execution_count": 43,
   "metadata": {},
   "outputs": [
    {
     "data": {
      "text/plain": [
       "0    0\n",
       "1    0\n",
       "2    0\n",
       "3    0\n",
       "4    0\n",
       "Name: target, dtype: int64"
      ]
     },
     "execution_count": 43,
     "metadata": {},
     "output_type": "execute_result"
    }
   ],
   "source": [
    "# Dependent Variabel\n",
    "ydf = df_heart['target']\n",
    "ydf.head()"
   ]
  },
  {
   "cell_type": "code",
   "execution_count": 44,
   "metadata": {},
   "outputs": [
    {
     "name": "stdout",
     "output_type": "stream",
     "text": [
      "(678, 13)\n",
      "(291, 13)\n"
     ]
    }
   ],
   "source": [
    "# Split data to train and test data\n",
    "# https://scikit-learn.org/stable/modules/generated/sklearn.model_selection.KFold.html\n",
    "X_train, X_test, y_train, y_test = train_test_split(xdf, ydf, test_size = 0.3, random_state = 42)\n",
    "print(X_train.shape)\n",
    "print(X_test.shape)"
   ]
  },
  {
   "cell_type": "code",
   "execution_count": 45,
   "metadata": {},
   "outputs": [
    {
     "name": "stdout",
     "output_type": "stream",
     "text": [
      "KFold CrossValScore Using Decision Tree 0.9969072164948454\n"
     ]
    }
   ],
   "source": [
    "kf = KFold(n_splits=10)\n",
    "kf.get_n_splits(df_heart)\n",
    "Tree = tree.DecisionTreeClassifier()\n",
    "print('KFold CrossValScore Using Decision Tree %s' % cross_val_score(Tree,xdf, ydf, cv=10).mean())"
   ]
  },
  {
   "cell_type": "code",
   "execution_count": 46,
   "metadata": {},
   "outputs": [
    {
     "data": {
      "image/png": "[encoded data removed]",
      "text/plain": [
       "<Figure size 1080x360 with 1 Axes>"
      ]
     },
     "metadata": {
      "needs_background": "light"
     },
     "output_type": "display_data"
    }
   ],
   "source": [
    "# function for fitting trees of various depths on the training data using cross-validation (K-fold)\n",
    "def run_cross_validation_on_trees(X, y, tree_depths, cv=10, scoring='accuracy'):\n",
    "    cv_scores_list = []\n",
    "    cv_scores_std = []\n",
    "    cv_scores_mean = []\n",
    "    accuracy_scores = []\n",
    "    for depth in tree_depths:\n",
    "        tree_model = DecisionTreeClassifier(max_depth=depth)\n",
    "        cv_scores = cross_val_score(tree_model, X, y, cv=cv, scoring=scoring)\n",
    "        cv_scores_list.append(cv_scores)\n",
    "        cv_scores_mean.append(cv_scores.mean())\n",
    "        cv_scores_std.append(cv_scores.std())\n",
    "        accuracy_scores.append(tree_model.fit(X, y).score(X, y))\n",
    "    cv_scores_mean = np.array(cv_scores_mean)\n",
    "    cv_scores_std = np.array(cv_scores_std)\n",
    "    accuracy_scores = np.array(accuracy_scores)\n",
    "    return cv_scores_mean, cv_scores_std, accuracy_scores\n",
    "  \n",
    "# function for plotting cross-validation results\n",
    "def plot_cross_validation_on_trees(depths, cv_scores_mean, cv_scores_std, accuracy_scores, title):\n",
    "    fig, ax = plt.subplots(1,1, figsize=(15,5))\n",
    "    ax.plot(depths, cv_scores_mean, '-o', label='mean cross-validation accuracy', alpha=0.9)\n",
    "    ax.fill_between(depths, cv_scores_mean-2*cv_scores_std, cv_scores_mean+2*cv_scores_std, alpha=0.2)\n",
    "    ylim = plt.ylim()\n",
    "    ax.plot(depths, accuracy_scores, '-*', label='train accuracy', alpha=0.9)\n",
    "    ax.set_title(title, fontsize=16)\n",
    "    ax.set_xlabel('Tree depth', fontsize=14)\n",
    "    ax.set_ylabel('Accuracy', fontsize=14)\n",
    "    ax.set_ylim(ylim)\n",
    "    ax.set_xticks(depths)\n",
    "    ax.legend()\n",
    "\n",
    "# fitting trees of depth 1 to 24\n",
    "sm_tree_depths = range(1,10)\n",
    "sm_cv_scores_mean, sm_cv_scores_std, sm_accuracy_scores = run_cross_validation_on_trees(X_train, y_train, sm_tree_depths)\n",
    "\n",
    "# plotting accuracy\n",
    "plot_cross_validation_on_trees(sm_tree_depths, sm_cv_scores_mean, sm_cv_scores_std, sm_accuracy_scores, \n",
    "                               'Accuracy per decision tree depth on training data')\n",
    "\n"
   ]
  },
  {
   "cell_type": "code",
   "execution_count": 47,
   "metadata": {},
   "outputs": [
    {
     "name": "stdout",
     "output_type": "stream",
     "text": [
      "Model accuracy score with criterion entropy: 0.9794\n"
     ]
    }
   ],
   "source": [
    "clf_en = DecisionTreeClassifier(criterion='entropy', max_depth=9, random_state=0)\n",
    "clf_en.fit(X_train, y_train)\n",
    "y_pred_en = clf_en.predict(X_test)\n",
    "\n",
    "print('Model accuracy score with criterion entropy: {0:0.4f}'. format(accuracy_score(y_test, y_pred_en)))"
   ]
  },
  {
   "cell_type": "code",
   "execution_count": 48,
   "metadata": {},
   "outputs": [
    {
     "name": "stdout",
     "output_type": "stream",
     "text": [
      "Training set score: 0.9956\n",
      "Test set score: 0.9794\n"
     ]
    }
   ],
   "source": [
    "# Compare the train-set and test-set accuracy\n",
    "y_pred_train_en = clf_en.predict(X_train)\n",
    "print('Training set score: {:.4f}'.format(clf_en.score(X_train, y_train)))\n",
    "print('Test set score: {:.4f}'.format(clf_en.score(X_test, y_test)))"
   ]
  },
  {
   "cell_type": "code",
   "execution_count": 49,
   "metadata": {},
   "outputs": [
    {
     "name": "stdout",
     "output_type": "stream",
     "text": [
      "Training-set accuracy score: 0.9956\n"
     ]
    }
   ],
   "source": [
    "print('Training-set accuracy score: {0:0.4f}'. format(accuracy_score(y_train, y_pred_train_en)))"
   ]
  },
  {
   "cell_type": "code",
   "execution_count": 50,
   "metadata": {},
   "outputs": [
    {
     "data": {
      "text/plain": [
       "[Text(902.6470588235293, 413.13599999999997, 'X[11] <= 0.5\\nentropy = 1.0\\nsamples = 678\\nvalue = [332, 346]'),\n",
       " Text(541.5882352941176, 369.648, 'X[12] <= 2.5\\nentropy = 0.843\\nsamples = 387\\nvalue = [105, 282]'),\n",
       " Text(361.0588235294117, 326.15999999999997, 'X[7] <= 160.5\\nentropy = 0.496\\nsamples = 267\\nvalue = [29, 238]'),\n",
       " Text(262.5882352941176, 282.672, 'X[9] <= 2.7\\nentropy = 0.743\\nsamples = 128\\nvalue = [27, 101]'),\n",
       " Text(164.1176470588235, 239.184, 'X[4] <= 241.0\\nentropy = 0.604\\nsamples = 115\\nvalue = [17, 98]'),\n",
       " Text(65.6470588235294, 195.696, 'X[8] <= 0.5\\nentropy = 0.119\\nsamples = 62\\nvalue = [1, 61]'),\n",
       " Text(32.8235294117647, 152.20799999999997, 'entropy = 0.0\\nsamples = 51\\nvalue = [0, 51]'),\n",
       " Text(98.47058823529412, 152.20799999999997, 'X[9] <= 0.1\\nentropy = 0.439\\nsamples = 11\\nvalue = [1, 10]'),\n",
       " Text(65.6470588235294, 108.72000000000003, 'entropy = 0.0\\nsamples = 1\\nvalue = [1, 0]'),\n",
       " Text(131.2941176470588, 108.72000000000003, 'entropy = 0.0\\nsamples = 10\\nvalue = [0, 10]'),\n",
       " Text(262.5882352941176, 195.696, 'X[9] <= 1.35\\nentropy = 0.884\\nsamples = 53\\nvalue = [16, 37]'),\n",
       " Text(229.76470588235293, 152.20799999999997, 'X[9] <= 0.1\\nentropy = 0.747\\nsamples = 47\\nvalue = [10, 37]'),\n",
       " Text(196.94117647058823, 108.72000000000003, 'X[2] <= 1.5\\nentropy = 0.988\\nsamples = 23\\nvalue = [10, 13]'),\n",
       " Text(131.2941176470588, 65.23199999999997, 'X[10] <= 1.5\\nentropy = 0.592\\nsamples = 14\\nvalue = [2, 12]'),\n",
       " Text(98.47058823529412, 21.744000000000028, 'entropy = 1.0\\nsamples = 4\\nvalue = [2, 2]'),\n",
       " Text(164.1176470588235, 21.744000000000028, 'entropy = 0.0\\nsamples = 10\\nvalue = [0, 10]'),\n",
       " Text(262.5882352941176, 65.23199999999997, 'X[6] <= 0.5\\nentropy = 0.503\\nsamples = 9\\nvalue = [8, 1]'),\n",
       " Text(229.76470588235293, 21.744000000000028, 'entropy = 0.918\\nsamples = 3\\nvalue = [2, 1]'),\n",
       " Text(295.4117647058823, 21.744000000000028, 'entropy = 0.0\\nsamples = 6\\nvalue = [6, 0]'),\n",
       " Text(262.5882352941176, 108.72000000000003, 'entropy = 0.0\\nsamples = 24\\nvalue = [0, 24]'),\n",
       " Text(295.4117647058823, 152.20799999999997, 'entropy = 0.0\\nsamples = 6\\nvalue = [6, 0]'),\n",
       " Text(361.0588235294117, 239.184, 'X[3] <= 112.0\\nentropy = 0.779\\nsamples = 13\\nvalue = [10, 3]'),\n",
       " Text(328.235294117647, 195.696, 'entropy = 0.0\\nsamples = 3\\nvalue = [0, 3]'),\n",
       " Text(393.88235294117646, 195.696, 'entropy = 0.0\\nsamples = 10\\nvalue = [10, 0]'),\n",
       " Text(459.52941176470586, 282.672, 'X[0] <= 60.5\\nentropy = 0.109\\nsamples = 139\\nvalue = [2, 137]'),\n",
       " Text(426.70588235294116, 239.184, 'entropy = 0.0\\nsamples = 131\\nvalue = [0, 131]'),\n",
       " Text(492.35294117647055, 239.184, 'X[4] <= 291.0\\nentropy = 0.811\\nsamples = 8\\nvalue = [2, 6]'),\n",
       " Text(459.52941176470586, 195.696, 'entropy = 0.0\\nsamples = 6\\nvalue = [0, 6]'),\n",
       " Text(525.1764705882352, 195.696, 'entropy = 0.0\\nsamples = 2\\nvalue = [2, 0]'),\n",
       " Text(722.1176470588234, 326.15999999999997, 'X[9] <= 0.7\\nentropy = 0.948\\nsamples = 120\\nvalue = [76, 44]'),\n",
       " Text(590.8235294117646, 282.672, 'X[0] <= 42.0\\nentropy = 0.956\\nsamples = 53\\nvalue = [20, 33]'),\n",
       " Text(558.0, 239.184, 'entropy = 0.0\\nsamples = 8\\nvalue = [8, 0]'),\n",
       " Text(623.6470588235294, 239.184, 'X[4] <= 240.5\\nentropy = 0.837\\nsamples = 45\\nvalue = [12, 33]'),\n",
       " Text(590.8235294117646, 195.696, 'entropy = 0.0\\nsamples = 23\\nvalue = [0, 23]'),\n",
       " Text(656.470588235294, 195.696, 'X[3] <= 122.0\\nentropy = 0.994\\nsamples = 22\\nvalue = [12, 10]'),\n",
       " Text(623.6470588235294, 152.20799999999997, 'entropy = 0.0\\nsamples = 8\\nvalue = [0, 8]'),\n",
       " Text(689.2941176470588, 152.20799999999997, 'X[0] <= 61.5\\nentropy = 0.592\\nsamples = 14\\nvalue = [12, 2]'),\n",
       " Text(656.470588235294, 108.72000000000003, 'entropy = 0.0\\nsamples = 12\\nvalue = [12, 0]'),\n",
       " Text(722.1176470588234, 108.72000000000003, 'entropy = 0.0\\nsamples = 2\\nvalue = [0, 2]'),\n",
       " Text(853.4117647058823, 282.672, 'X[2] <= 1.5\\nentropy = 0.644\\nsamples = 67\\nvalue = [56, 11]'),\n",
       " Text(820.5882352941176, 239.184, 'entropy = 0.0\\nsamples = 43\\nvalue = [43, 0]'),\n",
       " Text(886.235294117647, 239.184, 'X[0] <= 61.5\\nentropy = 0.995\\nsamples = 24\\nvalue = [13, 11]'),\n",
       " Text(853.4117647058823, 195.696, 'X[0] <= 48.5\\nentropy = 0.937\\nsamples = 17\\nvalue = [6, 11]'),\n",
       " Text(820.5882352941176, 152.20799999999997, 'X[5] <= 0.5\\nentropy = 0.918\\nsamples = 9\\nvalue = [6, 3]'),\n",
       " Text(787.7647058823529, 108.72000000000003, 'X[4] <= 215.0\\nentropy = 0.592\\nsamples = 7\\nvalue = [6, 1]'),\n",
       " Text(754.9411764705882, 65.23199999999997, 'entropy = 0.0\\nsamples = 1\\nvalue = [0, 1]'),\n",
       " Text(820.5882352941176, 65.23199999999997, 'entropy = 0.0\\nsamples = 6\\nvalue = [6, 0]'),\n",
       " Text(853.4117647058823, 108.72000000000003, 'entropy = 0.0\\nsamples = 2\\nvalue = [0, 2]'),\n",
       " Text(886.235294117647, 152.20799999999997, 'entropy = 0.0\\nsamples = 8\\nvalue = [0, 8]'),\n",
       " Text(919.0588235294117, 195.696, 'entropy = 0.0\\nsamples = 7\\nvalue = [7, 0]'),\n",
       " Text(1263.705882352941, 369.648, 'X[2] <= 0.5\\nentropy = 0.76\\nsamples = 291\\nvalue = [227, 64]'),\n",
       " Text(1050.3529411764705, 326.15999999999997, 'X[9] <= 0.45\\nentropy = 0.301\\nsamples = 187\\nvalue = [177, 10]'),\n",
       " Text(984.7058823529411, 282.672, 'X[1] <= 0.5\\nentropy = 0.731\\nsamples = 44\\nvalue = [35, 9]'),\n",
       " Text(951.8823529411764, 239.184, 'entropy = 0.0\\nsamples = 6\\nvalue = [0, 6]'),\n",
       " Text(1017.5294117647057, 239.184, 'X[7] <= 148.5\\nentropy = 0.398\\nsamples = 38\\nvalue = [35, 3]'),\n",
       " Text(984.7058823529411, 195.696, 'X[6] <= 0.5\\nentropy = 0.918\\nsamples = 9\\nvalue = [6, 3]'),\n",
       " Text(951.8823529411764, 152.20799999999997, 'entropy = 0.0\\nsamples = 6\\nvalue = [6, 0]'),\n",
       " Text(1017.5294117647057, 152.20799999999997, 'entropy = 0.0\\nsamples = 3\\nvalue = [0, 3]'),\n",
       " Text(1050.3529411764705, 195.696, 'entropy = 0.0\\nsamples = 29\\nvalue = [29, 0]'),\n",
       " Text(1116.0, 282.672, 'X[4] <= 301.0\\nentropy = 0.06\\nsamples = 143\\nvalue = [142, 1]'),\n",
       " Text(1083.1764705882351, 239.184, 'entropy = 0.0\\nsamples = 125\\nvalue = [125, 0]'),\n",
       " Text(1148.8235294117646, 239.184, 'X[4] <= 307.0\\nentropy = 0.31\\nsamples = 18\\nvalue = [17, 1]'),\n",
       " Text(1116.0, 195.696, 'entropy = 0.0\\nsamples = 1\\nvalue = [0, 1]'),\n",
       " Text(1181.6470588235293, 195.696, 'entropy = 0.0\\nsamples = 17\\nvalue = [17, 0]'),\n",
       " Text(1477.0588235294117, 326.15999999999997, 'X[9] <= 1.95\\nentropy = 0.999\\nsamples = 104\\nvalue = [50, 54]'),\n",
       " Text(1444.2352941176468, 282.672, 'X[10] <= 1.5\\nentropy = 0.94\\nsamples = 84\\nvalue = [30, 54]'),\n",
       " Text(1312.941176470588, 239.184, 'X[3] <= 143.0\\nentropy = 0.918\\nsamples = 30\\nvalue = [20, 10]'),\n",
       " Text(1247.2941176470588, 195.696, 'X[9] <= 1.6\\nentropy = 0.592\\nsamples = 21\\nvalue = [18, 3]'),\n",
       " Text(1214.470588235294, 152.20799999999997, 'X[3] <= 119.0\\nentropy = 0.297\\nsamples = 19\\nvalue = [18, 1]'),\n",
       " Text(1181.6470588235293, 108.72000000000003, 'entropy = 0.0\\nsamples = 1\\nvalue = [0, 1]'),\n",
       " Text(1247.2941176470588, 108.72000000000003, 'entropy = 0.0\\nsamples = 18\\nvalue = [18, 0]'),\n",
       " Text(1280.1176470588234, 152.20799999999997, 'entropy = 0.0\\nsamples = 2\\nvalue = [0, 2]'),\n",
       " Text(1378.5882352941176, 195.696, 'X[7] <= 125.5\\nentropy = 0.764\\nsamples = 9\\nvalue = [2, 7]'),\n",
       " Text(1345.764705882353, 152.20799999999997, 'entropy = 0.0\\nsamples = 2\\nvalue = [2, 0]'),\n",
       " Text(1411.4117647058822, 152.20799999999997, 'entropy = 0.0\\nsamples = 7\\nvalue = [0, 7]'),\n",
       " Text(1575.5294117647059, 239.184, 'X[0] <= 59.5\\nentropy = 0.691\\nsamples = 54\\nvalue = [10, 44]'),\n",
       " Text(1542.705882352941, 195.696, 'X[0] <= 55.5\\nentropy = 0.852\\nsamples = 36\\nvalue = [10, 26]'),\n",
       " Text(1477.0588235294117, 152.20799999999997, 'X[4] <= 173.5\\nentropy = 0.516\\nsamples = 26\\nvalue = [3, 23]'),\n",
       " Text(1444.2352941176468, 108.72000000000003, 'entropy = 0.0\\nsamples = 3\\nvalue = [3, 0]'),\n",
       " Text(1509.8823529411764, 108.72000000000003, 'entropy = 0.0\\nsamples = 23\\nvalue = [0, 23]'),\n",
       " Text(1608.3529411764705, 152.20799999999997, 'X[4] <= 165.0\\nentropy = 0.881\\nsamples = 10\\nvalue = [7, 3]'),\n",
       " Text(1575.5294117647059, 108.72000000000003, 'entropy = 0.0\\nsamples = 3\\nvalue = [0, 3]'),\n",
       " Text(1641.1764705882351, 108.72000000000003, 'entropy = 0.0\\nsamples = 7\\nvalue = [7, 0]'),\n",
       " Text(1608.3529411764705, 195.696, 'entropy = 0.0\\nsamples = 18\\nvalue = [0, 18]'),\n",
       " Text(1509.8823529411764, 282.672, 'entropy = 0.0\\nsamples = 20\\nvalue = [20, 0]')]"
      ]
     },
     "execution_count": 50,
     "metadata": {},
     "output_type": "execute_result"
    },
    {
     "data": {
      "image/png": "[encoded data removed]",
      "text/plain": [
       "<Figure size 2160x576 with 1 Axes>"
      ]
     },
     "metadata": {
      "needs_background": "light"
     },
     "output_type": "display_data"
    }
   ],
   "source": [
    "plt.figure(figsize=(30,8))\n",
    "tree.plot_tree(clf_en.fit(X_train, y_train)) "
   ]
  },
  {
   "cell_type": "code",
   "execution_count": 51,
   "metadata": {},
   "outputs": [
    {
     "name": "stdout",
     "output_type": "stream",
     "text": [
      "Confusion matrix for Decision Tree\n",
      " [[135   0]\n",
      " [  6 150]]\n",
      " accuracy_Decision Tree: 0.979\n",
      " precision Decision Tree: 0.979\n"
     ]
    },
    {
     "data": {
      "image/png": "[encoded data removed]",
      "text/plain": [
       "<Figure size 432x288 with 2 Axes>"
      ]
     },
     "metadata": {
      "needs_background": "light"
     },
     "output_type": "display_data"
    }
   ],
   "source": [
    "# Perhitungan Confusion matrix\n",
    "\n",
    "cm = confusion_matrix(y_test, y_pred_en)\n",
    "accuracy = accuracy_score(y_test,y_pred_en)\n",
    "precision =precision_score(y_test, y_pred_en,average='micro')\n",
    "\n",
    "print('Confusion matrix for Decision Tree\\n',cm)\n",
    "print(' accuracy_Decision Tree: %.3f'%accuracy)\n",
    "print(' precision Decision Tree: %.3f'%precision)\n",
    "\n",
    "ax = sns.heatmap(cm, annot=True, cmap='Blues', fmt='g')\n",
    "ax.set_title('Confusion Matrix\\n\\n');\n",
    "ax.set_xlabel('\\nPredicted Values')\n",
    "ax.set_ylabel('Actual Values ');"
   ]
  },
  {
   "cell_type": "markdown",
   "metadata": {},
   "source": [
    "## Daftar pustaka\n",
    "https://towardsdatascience.com/how-to-find-decision-tree-depth-via-cross-validation-2bf143f0f3d6\n",
    "\n",
    "https://www.kaggle.com/code/hamelg/python-for-data-29-decision-trees/notebook\n",
    "\n",
    "https://www.kaggle.com/code/satishgunjal/tutorial-k-fold-cross-validation/notebook\n",
    "\n",
    "https://www.kaggle.com/code/prashant111/decision-tree-classifier-tutorial\n",
    "\n",
    "https://www.kaggle.com/code/satishgunjal/tutorial-k-fold-cross-validation/notebook#K-Fold-Cross-Validation-"
   ]
  }
 ],
 "metadata": {
  "interpreter": {
   "hash": "bf264b646c9c23e2cf844067f7d111eb888bacaa5aad0ac1d6903434d2f02f9d"
  },
  "kernelspec": {
   "display_name": "Python 3.8.8 ('base')",
   "language": "python",
   "name": "python3"
  },
  "language_info": {
   "codemirror_mode": {
    "name": "ipython",
    "version": 3
   },
   "file_extension": ".py",
   "mimetype": "text/x-python",
   "name": "python",
   "nbconvert_exporter": "python",
   "pygments_lexer": "ipython3",
   "version": "3.9.7"
  },
  "orig_nbformat": 4
 },
 "nbformat": 4,
 "nbformat_minor": 2
}
