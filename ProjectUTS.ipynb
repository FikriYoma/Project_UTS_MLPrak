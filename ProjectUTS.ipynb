{
 "cells": [
  {
   "cell_type": "code",
   "execution_count": 54,
   "metadata": {},
   "outputs": [],
   "source": [
    "import pandas as pd\n",
    "import numpy as np\n",
    "from sklearn.model_selection import KFold "
   ]
  },
  {
   "cell_type": "code",
   "execution_count": 55,
   "metadata": {},
   "outputs": [
    {
     "name": "stdout",
     "output_type": "stream",
     "text": [
      "      age  sex  cp  trestbps  chol  fbs  restecg  thalach  exang  oldpeak  \\\n",
      "0      52    1   0       125   212    0        1      168      0      1.0   \n",
      "1      53    1   0       140   203    1        0      155      1      3.1   \n",
      "2      70    1   0       145   174    0        1      125      1      2.6   \n",
      "3      61    1   0       148   203    0        1      161      0      0.0   \n",
      "4      62    0   0       138   294    1        1      106      0      1.9   \n",
      "...   ...  ...  ..       ...   ...  ...      ...      ...    ...      ...   \n",
      "1020   59    1   1       140   221    0        1      164      1      0.0   \n",
      "1021   60    1   0       125   258    0        0      141      1      2.8   \n",
      "1022   47    1   0       110   275    0        0      118      1      1.0   \n",
      "1023   50    0   0       110   254    0        0      159      0      0.0   \n",
      "1024   54    1   0       120   188    0        1      113      0      1.4   \n",
      "\n",
      "      slope  ca  thal  target  \n",
      "0         2   2     3       0  \n",
      "1         0   0     3       0  \n",
      "2         0   0     3       0  \n",
      "3         2   1     3       0  \n",
      "4         1   3     2       0  \n",
      "...     ...  ..   ...     ...  \n",
      "1020      2   0     2       1  \n",
      "1021      1   1     3       0  \n",
      "1022      1   1     2       0  \n",
      "1023      2   0     2       1  \n",
      "1024      1   1     3       0  \n",
      "\n",
      "[1025 rows x 14 columns]\n"
     ]
    }
   ],
   "source": [
    "# Show the dataframe\n",
    "df_heart = pd.read_csv('Data/2_heart.csv')\n",
    "print(df_heart)"
   ]
  },
  {
   "cell_type": "code",
   "execution_count": 56,
   "metadata": {},
   "outputs": [
    {
     "data": {
      "text/html": [
       "<div>\n",
       "<style scoped>\n",
       "    .dataframe tbody tr th:only-of-type {\n",
       "        vertical-align: middle;\n",
       "    }\n",
       "\n",
       "    .dataframe tbody tr th {\n",
       "        vertical-align: top;\n",
       "    }\n",
       "\n",
       "    .dataframe thead th {\n",
       "        text-align: right;\n",
       "    }\n",
       "</style>\n",
       "<table border=\"1\" class=\"dataframe\">\n",
       "  <thead>\n",
       "    <tr style=\"text-align: right;\">\n",
       "      <th></th>\n",
       "      <th>age</th>\n",
       "      <th>sex</th>\n",
       "      <th>cp</th>\n",
       "      <th>trestbps</th>\n",
       "      <th>chol</th>\n",
       "      <th>fbs</th>\n",
       "      <th>restecg</th>\n",
       "      <th>thalach</th>\n",
       "      <th>exang</th>\n",
       "      <th>oldpeak</th>\n",
       "      <th>slope</th>\n",
       "      <th>ca</th>\n",
       "      <th>thal</th>\n",
       "      <th>target</th>\n",
       "    </tr>\n",
       "  </thead>\n",
       "  <tbody>\n",
       "    <tr>\n",
       "      <th>0</th>\n",
       "      <td>52</td>\n",
       "      <td>1</td>\n",
       "      <td>0</td>\n",
       "      <td>125</td>\n",
       "      <td>212</td>\n",
       "      <td>0</td>\n",
       "      <td>1</td>\n",
       "      <td>168</td>\n",
       "      <td>0</td>\n",
       "      <td>1.0</td>\n",
       "      <td>2</td>\n",
       "      <td>2</td>\n",
       "      <td>3</td>\n",
       "      <td>0</td>\n",
       "    </tr>\n",
       "    <tr>\n",
       "      <th>1</th>\n",
       "      <td>53</td>\n",
       "      <td>1</td>\n",
       "      <td>0</td>\n",
       "      <td>140</td>\n",
       "      <td>203</td>\n",
       "      <td>1</td>\n",
       "      <td>0</td>\n",
       "      <td>155</td>\n",
       "      <td>1</td>\n",
       "      <td>3.1</td>\n",
       "      <td>0</td>\n",
       "      <td>0</td>\n",
       "      <td>3</td>\n",
       "      <td>0</td>\n",
       "    </tr>\n",
       "    <tr>\n",
       "      <th>2</th>\n",
       "      <td>70</td>\n",
       "      <td>1</td>\n",
       "      <td>0</td>\n",
       "      <td>145</td>\n",
       "      <td>174</td>\n",
       "      <td>0</td>\n",
       "      <td>1</td>\n",
       "      <td>125</td>\n",
       "      <td>1</td>\n",
       "      <td>2.6</td>\n",
       "      <td>0</td>\n",
       "      <td>0</td>\n",
       "      <td>3</td>\n",
       "      <td>0</td>\n",
       "    </tr>\n",
       "    <tr>\n",
       "      <th>3</th>\n",
       "      <td>61</td>\n",
       "      <td>1</td>\n",
       "      <td>0</td>\n",
       "      <td>148</td>\n",
       "      <td>203</td>\n",
       "      <td>0</td>\n",
       "      <td>1</td>\n",
       "      <td>161</td>\n",
       "      <td>0</td>\n",
       "      <td>0.0</td>\n",
       "      <td>2</td>\n",
       "      <td>1</td>\n",
       "      <td>3</td>\n",
       "      <td>0</td>\n",
       "    </tr>\n",
       "    <tr>\n",
       "      <th>4</th>\n",
       "      <td>62</td>\n",
       "      <td>0</td>\n",
       "      <td>0</td>\n",
       "      <td>138</td>\n",
       "      <td>294</td>\n",
       "      <td>1</td>\n",
       "      <td>1</td>\n",
       "      <td>106</td>\n",
       "      <td>0</td>\n",
       "      <td>1.9</td>\n",
       "      <td>1</td>\n",
       "      <td>3</td>\n",
       "      <td>2</td>\n",
       "      <td>0</td>\n",
       "    </tr>\n",
       "  </tbody>\n",
       "</table>\n",
       "</div>"
      ],
      "text/plain": [
       "   age  sex  cp  trestbps  chol  fbs  restecg  thalach  exang  oldpeak  slope  \\\n",
       "0   52    1   0       125   212    0        1      168      0      1.0      2   \n",
       "1   53    1   0       140   203    1        0      155      1      3.1      0   \n",
       "2   70    1   0       145   174    0        1      125      1      2.6      0   \n",
       "3   61    1   0       148   203    0        1      161      0      0.0      2   \n",
       "4   62    0   0       138   294    1        1      106      0      1.9      1   \n",
       "\n",
       "   ca  thal  target  \n",
       "0   2     3       0  \n",
       "1   0     3       0  \n",
       "2   0     3       0  \n",
       "3   1     3       0  \n",
       "4   3     2       0  "
      ]
     },
     "execution_count": 56,
     "metadata": {},
     "output_type": "execute_result"
    }
   ],
   "source": [
    "df_heart.head()"
   ]
  },
  {
   "cell_type": "code",
   "execution_count": 57,
   "metadata": {},
   "outputs": [
    {
     "name": "stdout",
     "output_type": "stream",
     "text": [
      "age         0\n",
      "sex         0\n",
      "cp          0\n",
      "trestbps    0\n",
      "chol        0\n",
      "fbs         0\n",
      "restecg     0\n",
      "thalach     0\n",
      "exang       0\n",
      "oldpeak     0\n",
      "slope       0\n",
      "ca          0\n",
      "thal        0\n",
      "target      0\n",
      "dtype: int64\n"
     ]
    }
   ],
   "source": [
    "# Preprocessing\n",
    "\n",
    "# Missing Value\n",
    "# --Check is there any a missing value in dataframe\n",
    "print(df_heart.isnull().sum())"
   ]
  },
  {
   "cell_type": "code",
   "execution_count": 58,
   "metadata": {},
   "outputs": [
    {
     "data": {
      "text/plain": [
       "(1025, 14)"
      ]
     },
     "execution_count": 58,
     "metadata": {},
     "output_type": "execute_result"
    }
   ],
   "source": [
    "# Outlier\n",
    "# --Check shape of data\n",
    "df_heart.shape"
   ]
  },
  {
   "cell_type": "code",
   "execution_count": 59,
   "metadata": {},
   "outputs": [],
   "source": [
    "# --function to detect outliers using z_score\n",
    "outliers = []\n",
    "def detect_outlier(data_1):\n",
    "    threshold = 3\n",
    "    mean_1 = np.mean(data_1)\n",
    "    std_1 = np.std(data_1)\n",
    "\n",
    "    for y in data_1:\n",
    "        z_score = (y - mean_1)/std_1\n",
    "        if np.abs(z_score) > threshold:\n",
    "            outliers.append(y)\n",
    "    return outliers"
   ]
  },
  {
   "cell_type": "code",
   "execution_count": 60,
   "metadata": {},
   "outputs": [
    {
     "name": "stdout",
     "output_type": "stream",
     "text": [
      "[]\n"
     ]
    }
   ],
   "source": [
    "# -- Check Outliers--'age'\n",
    "outliers_age = df_heart['age']\n",
    "outlier_datapoints = detect_outlier(outliers_age)\n",
    "print(outlier_datapoints)"
   ]
  },
  {
   "cell_type": "code",
   "execution_count": 61,
   "metadata": {},
   "outputs": [],
   "source": [
    "outliers.clear()"
   ]
  },
  {
   "cell_type": "code",
   "execution_count": 62,
   "metadata": {},
   "outputs": [
    {
     "name": "stdout",
     "output_type": "stream",
     "text": [
      "[]\n"
     ]
    }
   ],
   "source": [
    "# -- Check Outliers--'sex'\n",
    "outliers_sex = df_heart['sex']\n",
    "outlier_datapoints = detect_outlier(outliers_sex)\n",
    "print(outlier_datapoints)"
   ]
  },
  {
   "cell_type": "code",
   "execution_count": 63,
   "metadata": {},
   "outputs": [],
   "source": [
    "outliers.clear()"
   ]
  },
  {
   "cell_type": "code",
   "execution_count": 64,
   "metadata": {},
   "outputs": [
    {
     "name": "stdout",
     "output_type": "stream",
     "text": [
      "[]\n"
     ]
    }
   ],
   "source": [
    "# -- Check Outliers--'cp'\n",
    "outliers_cp = df_heart['cp']\n",
    "outlier_datapoints = detect_outlier(outliers_cp)\n",
    "print(outlier_datapoints)"
   ]
  },
  {
   "cell_type": "code",
   "execution_count": 65,
   "metadata": {},
   "outputs": [],
   "source": [
    "outliers.clear()"
   ]
  },
  {
   "cell_type": "code",
   "execution_count": 66,
   "metadata": {},
   "outputs": [
    {
     "name": "stdout",
     "output_type": "stream",
     "text": [
      "[192, 200, 192, 200, 192, 200, 200]\n"
     ]
    }
   ],
   "source": [
    "# -- Check Outliers--'trestbps'\n",
    "outliers_trestbps = df_heart['trestbps']\n",
    "outlier_datapoints = detect_outlier(outliers_trestbps)\n",
    "print(outlier_datapoints)"
   ]
  },
  {
   "cell_type": "code",
   "execution_count": 67,
   "metadata": {},
   "outputs": [],
   "source": [
    "outliers.clear()"
   ]
  },
  {
   "cell_type": "code",
   "execution_count": 68,
   "metadata": {},
   "outputs": [
    {
     "name": "stdout",
     "output_type": "stream",
     "text": [
      "[417, 564, 409, 564, 407, 564, 407, 409, 417, 407, 407, 417, 409]\n"
     ]
    }
   ],
   "source": [
    "# -- Check Outliers--'chol'\n",
    "outliers_chol = df_heart['chol']\n",
    "outlier_datapoints = detect_outlier(outliers_chol)\n",
    "print(outlier_datapoints)"
   ]
  },
  {
   "cell_type": "code",
   "execution_count": 69,
   "metadata": {},
   "outputs": [],
   "source": [
    "outliers.clear()"
   ]
  },
  {
   "cell_type": "code",
   "execution_count": 70,
   "metadata": {},
   "outputs": [
    {
     "name": "stdout",
     "output_type": "stream",
     "text": [
      "[]\n"
     ]
    }
   ],
   "source": [
    "# -- Check Outliers--'fbs'\n",
    "outliers_fbs = df_heart['fbs']\n",
    "outlier_datapoints = detect_outlier(outliers_fbs)\n",
    "print(outlier_datapoints)"
   ]
  },
  {
   "cell_type": "code",
   "execution_count": 71,
   "metadata": {},
   "outputs": [],
   "source": [
    "outliers.clear()"
   ]
  },
  {
   "cell_type": "code",
   "execution_count": 72,
   "metadata": {},
   "outputs": [
    {
     "name": "stdout",
     "output_type": "stream",
     "text": [
      "[]\n"
     ]
    }
   ],
   "source": [
    "# -- Check Outliers--'restecg'\n",
    "outliers_restecg = df_heart['restecg']\n",
    "outlier_datapoints = detect_outlier(outliers_restecg)\n",
    "print(outlier_datapoints)"
   ]
  },
  {
   "cell_type": "code",
   "execution_count": 73,
   "metadata": {},
   "outputs": [],
   "source": [
    "outliers.clear()"
   ]
  },
  {
   "cell_type": "code",
   "execution_count": 74,
   "metadata": {},
   "outputs": [
    {
     "name": "stdout",
     "output_type": "stream",
     "text": [
      "[71, 71, 71, 71]\n"
     ]
    }
   ],
   "source": [
    "# -- Check Outliers--'thalach'\n",
    "outliers_thalach = df_heart['thalach']\n",
    "outlier_datapoints = detect_outlier(outliers_thalach)\n",
    "print(outlier_datapoints)"
   ]
  },
  {
   "cell_type": "code",
   "execution_count": 75,
   "metadata": {},
   "outputs": [],
   "source": [
    "outliers.clear()"
   ]
  },
  {
   "cell_type": "code",
   "execution_count": 76,
   "metadata": {},
   "outputs": [
    {
     "name": "stdout",
     "output_type": "stream",
     "text": [
      "[]\n"
     ]
    }
   ],
   "source": [
    "# -- Check Outliers--'exang'\n",
    "outliers_exang = df_heart['exang']\n",
    "outlier_datapoints = detect_outlier(outliers_exang)\n",
    "print(outlier_datapoints)"
   ]
  },
  {
   "cell_type": "code",
   "execution_count": 77,
   "metadata": {},
   "outputs": [],
   "source": [
    "outliers.clear()"
   ]
  },
  {
   "cell_type": "code",
   "execution_count": 78,
   "metadata": {},
   "outputs": [
    {
     "name": "stdout",
     "output_type": "stream",
     "text": [
      "[5.6, 5.6, 6.2, 6.2, 6.2, 5.6, 5.6]\n"
     ]
    }
   ],
   "source": [
    "# -- Check Outliers--'oldpeak'\n",
    "outliers_oldpeak = df_heart['oldpeak']\n",
    "outlier_datapoints = detect_outlier(outliers_oldpeak)\n",
    "print(outlier_datapoints)"
   ]
  },
  {
   "cell_type": "code",
   "execution_count": 79,
   "metadata": {},
   "outputs": [],
   "source": [
    "outliers.clear()"
   ]
  },
  {
   "cell_type": "code",
   "execution_count": 80,
   "metadata": {},
   "outputs": [
    {
     "name": "stdout",
     "output_type": "stream",
     "text": [
      "[]\n"
     ]
    }
   ],
   "source": [
    "# -- Check Outliers--'slope'\n",
    "outliers_slope = df_heart['slope']\n",
    "outlier_datapoints = detect_outlier(outliers_slope)\n",
    "print(outlier_datapoints)"
   ]
  },
  {
   "cell_type": "code",
   "execution_count": 81,
   "metadata": {},
   "outputs": [],
   "source": [
    "outliers.clear()"
   ]
  },
  {
   "cell_type": "code",
   "execution_count": 82,
   "metadata": {},
   "outputs": [
    {
     "name": "stdout",
     "output_type": "stream",
     "text": [
      "[4, 4, 4, 4, 4, 4, 4, 4, 4, 4, 4, 4, 4, 4, 4, 4, 4, 4]\n"
     ]
    }
   ],
   "source": [
    "# -- Check Outliers--'ca'\n",
    "outliers_ca = df_heart['ca']\n",
    "outlier_datapoints = detect_outlier(outliers_ca)\n",
    "print(outlier_datapoints)"
   ]
  },
  {
   "cell_type": "code",
   "execution_count": 83,
   "metadata": {},
   "outputs": [],
   "source": [
    "outliers.clear()"
   ]
  },
  {
   "cell_type": "code",
   "execution_count": 84,
   "metadata": {},
   "outputs": [
    {
     "name": "stdout",
     "output_type": "stream",
     "text": [
      "[0, 0, 0, 0, 0, 0, 0]\n"
     ]
    }
   ],
   "source": [
    "# -- Check Outliers--'thal'\n",
    "outliers_thal = df_heart['thal']\n",
    "outlier_datapoints = detect_outlier(outliers_thal)\n",
    "print(outlier_datapoints)"
   ]
  },
  {
   "cell_type": "code",
   "execution_count": 85,
   "metadata": {},
   "outputs": [],
   "source": [
    "outliers.clear()"
   ]
  },
  {
   "cell_type": "code",
   "execution_count": 86,
   "metadata": {},
   "outputs": [
    {
     "name": "stdout",
     "output_type": "stream",
     "text": [
      "[]\n"
     ]
    }
   ],
   "source": [
    "# -- Check Outliers--'target'\n",
    "outliers_target = df_heart['target']\n",
    "outlier_datapoints = detect_outlier(outliers_target)\n",
    "print(outlier_datapoints)"
   ]
  },
  {
   "cell_type": "code",
   "execution_count": 87,
   "metadata": {},
   "outputs": [],
   "source": [
    "outliers.clear()"
   ]
  },
  {
   "cell_type": "code",
   "execution_count": 88,
   "metadata": {},
   "outputs": [],
   "source": [
    "# Now we know the data with have an outliers are\n",
    "# 1.'trestbps'\n",
    "# 2. 'chol'\n",
    "# 3. 'thalach'\n",
    "# 4. 'oldpeak'\n",
    "# 5. 'ca'\n",
    "# 6. 'thal'"
   ]
  },
  {
   "cell_type": "code",
   "execution_count": 89,
   "metadata": {},
   "outputs": [],
   "source": [
    "from scipy import stats\n",
    "z_scores = stats.zscore(df_heart)\n",
    "abs_z_scores = np.abs(z_scores)\n",
    "filtered_entries = (abs_z_scores < 3).all(axis=1)\n",
    "df_heart = df_heart[filtered_entries]\n"
   ]
  },
  {
   "cell_type": "code",
   "execution_count": 90,
   "metadata": {},
   "outputs": [
    {
     "data": {
      "text/plain": [
       "(969, 14)"
      ]
     },
     "execution_count": 90,
     "metadata": {},
     "output_type": "execute_result"
    }
   ],
   "source": [
    "df_heart.shape"
   ]
  },
  {
   "cell_type": "code",
   "execution_count": 91,
   "metadata": {},
   "outputs": [
    {
     "data": {
      "text/html": [
       "<div>\n",
       "<style scoped>\n",
       "    .dataframe tbody tr th:only-of-type {\n",
       "        vertical-align: middle;\n",
       "    }\n",
       "\n",
       "    .dataframe tbody tr th {\n",
       "        vertical-align: top;\n",
       "    }\n",
       "\n",
       "    .dataframe thead th {\n",
       "        text-align: right;\n",
       "    }\n",
       "</style>\n",
       "<table border=\"1\" class=\"dataframe\">\n",
       "  <thead>\n",
       "    <tr style=\"text-align: right;\">\n",
       "      <th></th>\n",
       "      <th>age</th>\n",
       "      <th>sex</th>\n",
       "      <th>cp</th>\n",
       "      <th>trestbps</th>\n",
       "      <th>chol</th>\n",
       "      <th>fbs</th>\n",
       "      <th>restecg</th>\n",
       "      <th>thalach</th>\n",
       "      <th>exang</th>\n",
       "      <th>oldpeak</th>\n",
       "      <th>slope</th>\n",
       "      <th>ca</th>\n",
       "      <th>thal</th>\n",
       "      <th>target</th>\n",
       "    </tr>\n",
       "  </thead>\n",
       "  <tbody>\n",
       "    <tr>\n",
       "      <th>0</th>\n",
       "      <td>0.479167</td>\n",
       "      <td>1.0</td>\n",
       "      <td>0.0</td>\n",
       "      <td>0.0</td>\n",
       "      <td>0.320896</td>\n",
       "      <td>0.0</td>\n",
       "      <td>0.5</td>\n",
       "      <td>0.701754</td>\n",
       "      <td>0.0</td>\n",
       "      <td>0.227273</td>\n",
       "      <td>1.0</td>\n",
       "      <td>0.666667</td>\n",
       "      <td>1.0</td>\n",
       "      <td>0.0</td>\n",
       "    </tr>\n",
       "    <tr>\n",
       "      <th>1</th>\n",
       "      <td>0.500000</td>\n",
       "      <td>1.0</td>\n",
       "      <td>0.0</td>\n",
       "      <td>0.0</td>\n",
       "      <td>0.287313</td>\n",
       "      <td>1.0</td>\n",
       "      <td>0.0</td>\n",
       "      <td>0.587719</td>\n",
       "      <td>1.0</td>\n",
       "      <td>0.704545</td>\n",
       "      <td>0.0</td>\n",
       "      <td>0.000000</td>\n",
       "      <td>1.0</td>\n",
       "      <td>0.0</td>\n",
       "    </tr>\n",
       "    <tr>\n",
       "      <th>2</th>\n",
       "      <td>0.854167</td>\n",
       "      <td>1.0</td>\n",
       "      <td>0.0</td>\n",
       "      <td>0.0</td>\n",
       "      <td>0.179104</td>\n",
       "      <td>0.0</td>\n",
       "      <td>0.5</td>\n",
       "      <td>0.324561</td>\n",
       "      <td>1.0</td>\n",
       "      <td>0.590909</td>\n",
       "      <td>0.0</td>\n",
       "      <td>0.000000</td>\n",
       "      <td>1.0</td>\n",
       "      <td>0.0</td>\n",
       "    </tr>\n",
       "    <tr>\n",
       "      <th>3</th>\n",
       "      <td>0.666667</td>\n",
       "      <td>1.0</td>\n",
       "      <td>0.0</td>\n",
       "      <td>0.0</td>\n",
       "      <td>0.287313</td>\n",
       "      <td>0.0</td>\n",
       "      <td>0.5</td>\n",
       "      <td>0.640351</td>\n",
       "      <td>0.0</td>\n",
       "      <td>0.000000</td>\n",
       "      <td>1.0</td>\n",
       "      <td>0.333333</td>\n",
       "      <td>1.0</td>\n",
       "      <td>0.0</td>\n",
       "    </tr>\n",
       "    <tr>\n",
       "      <th>4</th>\n",
       "      <td>0.687500</td>\n",
       "      <td>0.0</td>\n",
       "      <td>0.0</td>\n",
       "      <td>0.0</td>\n",
       "      <td>0.626866</td>\n",
       "      <td>1.0</td>\n",
       "      <td>0.5</td>\n",
       "      <td>0.157895</td>\n",
       "      <td>0.0</td>\n",
       "      <td>0.431818</td>\n",
       "      <td>0.5</td>\n",
       "      <td>1.000000</td>\n",
       "      <td>0.5</td>\n",
       "      <td>0.0</td>\n",
       "    </tr>\n",
       "  </tbody>\n",
       "</table>\n",
       "</div>"
      ],
      "text/plain": [
       "        age  sex   cp  trestbps      chol  fbs  restecg   thalach  exang  \\\n",
       "0  0.479167  1.0  0.0       0.0  0.320896  0.0      0.5  0.701754    0.0   \n",
       "1  0.500000  1.0  0.0       0.0  0.287313  1.0      0.0  0.587719    1.0   \n",
       "2  0.854167  1.0  0.0       0.0  0.179104  0.0      0.5  0.324561    1.0   \n",
       "3  0.666667  1.0  0.0       0.0  0.287313  0.0      0.5  0.640351    0.0   \n",
       "4  0.687500  0.0  0.0       0.0  0.626866  1.0      0.5  0.157895    0.0   \n",
       "\n",
       "    oldpeak  slope        ca  thal  target  \n",
       "0  0.227273    1.0  0.666667   1.0     0.0  \n",
       "1  0.704545    0.0  0.000000   1.0     0.0  \n",
       "2  0.590909    0.0  0.000000   1.0     0.0  \n",
       "3  0.000000    1.0  0.333333   1.0     0.0  \n",
       "4  0.431818    0.5  1.000000   0.5     0.0  "
      ]
     },
     "execution_count": 91,
     "metadata": {},
     "output_type": "execute_result"
    }
   ],
   "source": [
    "# Normalization range 0 to 1\n",
    "def NormalizeData(data):\n",
    "    return (data - np.min(data)) / (np.max(data) - np.min(data))\n",
    "\n",
    "scaled_df_heart = df_heart\n",
    "scaled_df_heart['age'] = NormalizeData(df_heart['age'])\n",
    "scaled_df_heart['sex'] = NormalizeData(df_heart['sex'])\n",
    "scaled_df_heart['cp'] = NormalizeData(df_heart['cp'])\n",
    "scaled_df_heart['trestbps'] = NormalizeData(df_heart['target'])\n",
    "scaled_df_heart['chol'] = NormalizeData(df_heart['chol'])\n",
    "scaled_df_heart['fbs']= NormalizeData(df_heart['fbs'])\n",
    "scaled_df_heart['restecg'] = NormalizeData(df_heart['restecg'])\n",
    "scaled_df_heart['thalach'] = NormalizeData(df_heart['thalach'])\n",
    "scaled_df_heart['exang'] = NormalizeData(df_heart['exang'])\n",
    "scaled_df_heart['oldpeak'] = NormalizeData(df_heart['oldpeak'])\n",
    "scaled_df_heart['slope'] = NormalizeData(df_heart['slope'])\n",
    "scaled_df_heart['ca'] = NormalizeData(df_heart['ca'])\n",
    "scaled_df_heart['thal'] = NormalizeData(df_heart['thal'])\n",
    "scaled_df_heart['target'] = NormalizeData(df_heart['target'])\n",
    "scaled_df_heart.head()"
   ]
  },
  {
   "cell_type": "code",
   "execution_count": 94,
   "metadata": {},
   "outputs": [
    {
     "name": "stdout",
     "output_type": "stream",
     "text": [
      "KFold(n_splits=10, random_state=None, shuffle=False)\n"
     ]
    }
   ],
   "source": [
    "# Split data usinng Kfold k = 10\n",
    "# https://scikit-learn.org/stable/modules/generated/sklearn.model_selection.KFold.html \n",
    "kf = KFold(n_splits=10)\n",
    "print(kf)"
   ]
  }
 ],
 "metadata": {
  "interpreter": {
   "hash": "bf264b646c9c23e2cf844067f7d111eb888bacaa5aad0ac1d6903434d2f02f9d"
  },
  "kernelspec": {
   "display_name": "Python 3.8.8 ('base')",
   "language": "python",
   "name": "python3"
  },
  "language_info": {
   "codemirror_mode": {
    "name": "ipython",
    "version": 3
   },
   "file_extension": ".py",
   "mimetype": "text/x-python",
   "name": "python",
   "nbconvert_exporter": "python",
   "pygments_lexer": "ipython3",
   "version": "3.9.7"
  },
  "orig_nbformat": 4
 },
 "nbformat": 4,
 "nbformat_minor": 2
}
